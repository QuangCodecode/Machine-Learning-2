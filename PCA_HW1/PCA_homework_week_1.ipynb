{
 "cells": [
  {
   "cell_type": "markdown",
   "id": "8e3d2b18",
   "metadata": {},
   "source": [
    "# Nguyen Duc Quang - 11206700"
   ]
  },
  {
   "cell_type": "code",
   "execution_count": 1,
   "id": "4dbc0669",
   "metadata": {},
   "outputs": [],
   "source": [
    "import numpy as np\n",
    "import pandas as pd\n",
    "from sklearn import datasets\n",
    "import matplotlib.pyplot as plt\n",
    "import seaborn as sns\n",
    "from sklearn.decomposition import PCA\n",
    "import warnings\n",
    "warnings.filterwarnings('ignore')"
   ]
  },
  {
   "cell_type": "markdown",
   "id": "65316795",
   "metadata": {},
   "source": [
    "## Exercise 2-3"
   ]
  },
  {
   "cell_type": "code",
   "execution_count": 2,
   "id": "9682eceb",
   "metadata": {},
   "outputs": [],
   "source": [
    "iris = datasets.load_iris()"
   ]
  },
  {
   "cell_type": "code",
   "execution_count": 3,
   "id": "c4df33e1",
   "metadata": {},
   "outputs": [],
   "source": [
    "data = iris.data \n",
    "target = iris.target"
   ]
  },
  {
   "cell_type": "code",
   "execution_count": 4,
   "id": "e80d7442",
   "metadata": {},
   "outputs": [
    {
     "data": {
      "text/plain": [
       "array([[5.1, 3.5, 1.4, 0.2],\n",
       "       [4.9, 3. , 1.4, 0.2],\n",
       "       [4.7, 3.2, 1.3, 0.2],\n",
       "       [4.6, 3.1, 1.5, 0.2],\n",
       "       [5. , 3.6, 1.4, 0.2],\n",
       "       [5.4, 3.9, 1.7, 0.4],\n",
       "       [4.6, 3.4, 1.4, 0.3],\n",
       "       [5. , 3.4, 1.5, 0.2],\n",
       "       [4.4, 2.9, 1.4, 0.2],\n",
       "       [4.9, 3.1, 1.5, 0.1],\n",
       "       [5.4, 3.7, 1.5, 0.2],\n",
       "       [4.8, 3.4, 1.6, 0.2],\n",
       "       [4.8, 3. , 1.4, 0.1],\n",
       "       [4.3, 3. , 1.1, 0.1],\n",
       "       [5.8, 4. , 1.2, 0.2],\n",
       "       [5.7, 4.4, 1.5, 0.4],\n",
       "       [5.4, 3.9, 1.3, 0.4],\n",
       "       [5.1, 3.5, 1.4, 0.3],\n",
       "       [5.7, 3.8, 1.7, 0.3],\n",
       "       [5.1, 3.8, 1.5, 0.3],\n",
       "       [5.4, 3.4, 1.7, 0.2],\n",
       "       [5.1, 3.7, 1.5, 0.4],\n",
       "       [4.6, 3.6, 1. , 0.2],\n",
       "       [5.1, 3.3, 1.7, 0.5],\n",
       "       [4.8, 3.4, 1.9, 0.2],\n",
       "       [5. , 3. , 1.6, 0.2],\n",
       "       [5. , 3.4, 1.6, 0.4],\n",
       "       [5.2, 3.5, 1.5, 0.2],\n",
       "       [5.2, 3.4, 1.4, 0.2],\n",
       "       [4.7, 3.2, 1.6, 0.2],\n",
       "       [4.8, 3.1, 1.6, 0.2],\n",
       "       [5.4, 3.4, 1.5, 0.4],\n",
       "       [5.2, 4.1, 1.5, 0.1],\n",
       "       [5.5, 4.2, 1.4, 0.2],\n",
       "       [4.9, 3.1, 1.5, 0.2],\n",
       "       [5. , 3.2, 1.2, 0.2],\n",
       "       [5.5, 3.5, 1.3, 0.2],\n",
       "       [4.9, 3.6, 1.4, 0.1],\n",
       "       [4.4, 3. , 1.3, 0.2],\n",
       "       [5.1, 3.4, 1.5, 0.2],\n",
       "       [5. , 3.5, 1.3, 0.3],\n",
       "       [4.5, 2.3, 1.3, 0.3],\n",
       "       [4.4, 3.2, 1.3, 0.2],\n",
       "       [5. , 3.5, 1.6, 0.6],\n",
       "       [5.1, 3.8, 1.9, 0.4],\n",
       "       [4.8, 3. , 1.4, 0.3],\n",
       "       [5.1, 3.8, 1.6, 0.2],\n",
       "       [4.6, 3.2, 1.4, 0.2],\n",
       "       [5.3, 3.7, 1.5, 0.2],\n",
       "       [5. , 3.3, 1.4, 0.2],\n",
       "       [7. , 3.2, 4.7, 1.4],\n",
       "       [6.4, 3.2, 4.5, 1.5],\n",
       "       [6.9, 3.1, 4.9, 1.5],\n",
       "       [5.5, 2.3, 4. , 1.3],\n",
       "       [6.5, 2.8, 4.6, 1.5],\n",
       "       [5.7, 2.8, 4.5, 1.3],\n",
       "       [6.3, 3.3, 4.7, 1.6],\n",
       "       [4.9, 2.4, 3.3, 1. ],\n",
       "       [6.6, 2.9, 4.6, 1.3],\n",
       "       [5.2, 2.7, 3.9, 1.4],\n",
       "       [5. , 2. , 3.5, 1. ],\n",
       "       [5.9, 3. , 4.2, 1.5],\n",
       "       [6. , 2.2, 4. , 1. ],\n",
       "       [6.1, 2.9, 4.7, 1.4],\n",
       "       [5.6, 2.9, 3.6, 1.3],\n",
       "       [6.7, 3.1, 4.4, 1.4],\n",
       "       [5.6, 3. , 4.5, 1.5],\n",
       "       [5.8, 2.7, 4.1, 1. ],\n",
       "       [6.2, 2.2, 4.5, 1.5],\n",
       "       [5.6, 2.5, 3.9, 1.1],\n",
       "       [5.9, 3.2, 4.8, 1.8],\n",
       "       [6.1, 2.8, 4. , 1.3],\n",
       "       [6.3, 2.5, 4.9, 1.5],\n",
       "       [6.1, 2.8, 4.7, 1.2],\n",
       "       [6.4, 2.9, 4.3, 1.3],\n",
       "       [6.6, 3. , 4.4, 1.4],\n",
       "       [6.8, 2.8, 4.8, 1.4],\n",
       "       [6.7, 3. , 5. , 1.7],\n",
       "       [6. , 2.9, 4.5, 1.5],\n",
       "       [5.7, 2.6, 3.5, 1. ],\n",
       "       [5.5, 2.4, 3.8, 1.1],\n",
       "       [5.5, 2.4, 3.7, 1. ],\n",
       "       [5.8, 2.7, 3.9, 1.2],\n",
       "       [6. , 2.7, 5.1, 1.6],\n",
       "       [5.4, 3. , 4.5, 1.5],\n",
       "       [6. , 3.4, 4.5, 1.6],\n",
       "       [6.7, 3.1, 4.7, 1.5],\n",
       "       [6.3, 2.3, 4.4, 1.3],\n",
       "       [5.6, 3. , 4.1, 1.3],\n",
       "       [5.5, 2.5, 4. , 1.3],\n",
       "       [5.5, 2.6, 4.4, 1.2],\n",
       "       [6.1, 3. , 4.6, 1.4],\n",
       "       [5.8, 2.6, 4. , 1.2],\n",
       "       [5. , 2.3, 3.3, 1. ],\n",
       "       [5.6, 2.7, 4.2, 1.3],\n",
       "       [5.7, 3. , 4.2, 1.2],\n",
       "       [5.7, 2.9, 4.2, 1.3],\n",
       "       [6.2, 2.9, 4.3, 1.3],\n",
       "       [5.1, 2.5, 3. , 1.1],\n",
       "       [5.7, 2.8, 4.1, 1.3],\n",
       "       [6.3, 3.3, 6. , 2.5],\n",
       "       [5.8, 2.7, 5.1, 1.9],\n",
       "       [7.1, 3. , 5.9, 2.1],\n",
       "       [6.3, 2.9, 5.6, 1.8],\n",
       "       [6.5, 3. , 5.8, 2.2],\n",
       "       [7.6, 3. , 6.6, 2.1],\n",
       "       [4.9, 2.5, 4.5, 1.7],\n",
       "       [7.3, 2.9, 6.3, 1.8],\n",
       "       [6.7, 2.5, 5.8, 1.8],\n",
       "       [7.2, 3.6, 6.1, 2.5],\n",
       "       [6.5, 3.2, 5.1, 2. ],\n",
       "       [6.4, 2.7, 5.3, 1.9],\n",
       "       [6.8, 3. , 5.5, 2.1],\n",
       "       [5.7, 2.5, 5. , 2. ],\n",
       "       [5.8, 2.8, 5.1, 2.4],\n",
       "       [6.4, 3.2, 5.3, 2.3],\n",
       "       [6.5, 3. , 5.5, 1.8],\n",
       "       [7.7, 3.8, 6.7, 2.2],\n",
       "       [7.7, 2.6, 6.9, 2.3],\n",
       "       [6. , 2.2, 5. , 1.5],\n",
       "       [6.9, 3.2, 5.7, 2.3],\n",
       "       [5.6, 2.8, 4.9, 2. ],\n",
       "       [7.7, 2.8, 6.7, 2. ],\n",
       "       [6.3, 2.7, 4.9, 1.8],\n",
       "       [6.7, 3.3, 5.7, 2.1],\n",
       "       [7.2, 3.2, 6. , 1.8],\n",
       "       [6.2, 2.8, 4.8, 1.8],\n",
       "       [6.1, 3. , 4.9, 1.8],\n",
       "       [6.4, 2.8, 5.6, 2.1],\n",
       "       [7.2, 3. , 5.8, 1.6],\n",
       "       [7.4, 2.8, 6.1, 1.9],\n",
       "       [7.9, 3.8, 6.4, 2. ],\n",
       "       [6.4, 2.8, 5.6, 2.2],\n",
       "       [6.3, 2.8, 5.1, 1.5],\n",
       "       [6.1, 2.6, 5.6, 1.4],\n",
       "       [7.7, 3. , 6.1, 2.3],\n",
       "       [6.3, 3.4, 5.6, 2.4],\n",
       "       [6.4, 3.1, 5.5, 1.8],\n",
       "       [6. , 3. , 4.8, 1.8],\n",
       "       [6.9, 3.1, 5.4, 2.1],\n",
       "       [6.7, 3.1, 5.6, 2.4],\n",
       "       [6.9, 3.1, 5.1, 2.3],\n",
       "       [5.8, 2.7, 5.1, 1.9],\n",
       "       [6.8, 3.2, 5.9, 2.3],\n",
       "       [6.7, 3.3, 5.7, 2.5],\n",
       "       [6.7, 3. , 5.2, 2.3],\n",
       "       [6.3, 2.5, 5. , 1.9],\n",
       "       [6.5, 3. , 5.2, 2. ],\n",
       "       [6.2, 3.4, 5.4, 2.3],\n",
       "       [5.9, 3. , 5.1, 1.8]])"
      ]
     },
     "execution_count": 4,
     "metadata": {},
     "output_type": "execute_result"
    }
   ],
   "source": [
    "data"
   ]
  },
  {
   "cell_type": "code",
   "execution_count": 5,
   "id": "e53e0344",
   "metadata": {},
   "outputs": [
    {
     "data": {
      "text/plain": [
       "(150, 4)"
      ]
     },
     "execution_count": 5,
     "metadata": {},
     "output_type": "execute_result"
    }
   ],
   "source": [
    "data.shape"
   ]
  },
  {
   "cell_type": "markdown",
   "id": "6a3180a9",
   "metadata": {},
   "source": [
    "Step 1 : Generate a Covariance matrix"
   ]
  },
  {
   "cell_type": "code",
   "execution_count": 6,
   "id": "418306b8",
   "metadata": {},
   "outputs": [
    {
     "name": "stdout",
     "output_type": "stream",
     "text": [
      "(150, 4)\n"
     ]
    }
   ],
   "source": [
    "df_matrix = np.asmatrix(data)\n",
    "print(df_matrix.shape)"
   ]
  },
  {
   "cell_type": "code",
   "execution_count": 7,
   "id": "8f6dabc0",
   "metadata": {},
   "outputs": [
    {
     "name": "stdout",
     "output_type": "stream",
     "text": [
      "(4, 4)\n"
     ]
    }
   ],
   "source": [
    "covar_matrix = np.cov(df_matrix.T)\n",
    "print(covar_matrix.shape)"
   ]
  },
  {
   "cell_type": "markdown",
   "id": "8d68e392",
   "metadata": {},
   "source": [
    "=> covariance matrix will be of 4*4 dimension"
   ]
  },
  {
   "cell_type": "markdown",
   "id": "24a7203f",
   "metadata": {},
   "source": [
    "Step 2 : Compute eigen values and eigen vectors"
   ]
  },
  {
   "cell_type": "code",
   "execution_count": 8,
   "id": "6d5fe275",
   "metadata": {},
   "outputs": [],
   "source": [
    "eig_val, eig_vec = np.linalg.eig(covar_matrix)"
   ]
  },
  {
   "cell_type": "code",
   "execution_count": 9,
   "id": "a8d85bf7",
   "metadata": {},
   "outputs": [
    {
     "name": "stdout",
     "output_type": "stream",
     "text": [
      "[4.22824171 0.24267075 0.0782095  0.02383509]\n"
     ]
    }
   ],
   "source": [
    "print(eig_val)"
   ]
  },
  {
   "cell_type": "code",
   "execution_count": 10,
   "id": "cd877002",
   "metadata": {},
   "outputs": [
    {
     "name": "stdout",
     "output_type": "stream",
     "text": [
      "[[ 0.36138659 -0.65658877 -0.58202985  0.31548719]\n",
      " [-0.08452251 -0.73016143  0.59791083 -0.3197231 ]\n",
      " [ 0.85667061  0.17337266  0.07623608 -0.47983899]\n",
      " [ 0.3582892   0.07548102  0.54583143  0.75365743]]\n"
     ]
    }
   ],
   "source": [
    "print(eig_vec)"
   ]
  },
  {
   "cell_type": "markdown",
   "id": "e64eb53b",
   "metadata": {},
   "source": [
    "Step 3 : Select top k eigen values and corresponding eigen vectors"
   ]
  },
  {
   "cell_type": "code",
   "execution_count": 11,
   "id": "a0771132",
   "metadata": {},
   "outputs": [
    {
     "data": {
      "text/plain": [
       "array([[ 0.36138659, -0.65658877],\n",
       "       [-0.08452251, -0.73016143],\n",
       "       [ 0.85667061,  0.17337266],\n",
       "       [ 0.3582892 ,  0.07548102]])"
      ]
     },
     "execution_count": 11,
     "metadata": {},
     "output_type": "execute_result"
    }
   ],
   "source": [
    "top2eig = eig_vec[:,0:2]\n",
    "top2eig"
   ]
  },
  {
   "cell_type": "markdown",
   "id": "770eb132",
   "metadata": {},
   "source": [
    "Step 4: Transform data"
   ]
  },
  {
   "cell_type": "code",
   "execution_count": 12,
   "id": "600d8033",
   "metadata": {},
   "outputs": [],
   "source": [
    "new_data = data.dot(top2eig) "
   ]
  },
  {
   "cell_type": "code",
   "execution_count": 13,
   "id": "4ac1b2e6",
   "metadata": {},
   "outputs": [
    {
     "name": "stdout",
     "output_type": "stream",
     "text": [
      "(150, 2)\n"
     ]
    },
    {
     "data": {
      "text/plain": [
       "array([[ 2.81823951, -5.64634982],\n",
       "       [ 2.78822345, -5.14995135],\n",
       "       [ 2.61337456, -5.18200315],\n",
       "       [ 2.75702228, -5.0086536 ],\n",
       "       [ 2.7736486 , -5.65370709],\n",
       "       [ 3.2215055 , -6.06828303],\n",
       "       [ 2.68182738, -5.23749119],\n",
       "       [ 2.87622016, -5.49033754],\n",
       "       [ 2.6159824 , -4.74864082],\n",
       "       [ 2.82960933, -5.21317833],\n",
       "       [ 2.99541804, -5.97202148],\n",
       "       [ 2.8896099 , -5.34168252],\n",
       "       [ 2.71625587, -5.09184058],\n",
       "       [ 2.27856139, -4.81555799],\n",
       "       [ 2.85761474, -6.50571721],\n",
       "       [ 3.1163261 , -6.66501491],\n",
       "       [ 2.87883726, -6.13763209],\n",
       "       [ 2.85406843, -5.63880172],\n",
       "       [ 3.30254481, -6.19979162],\n",
       "       [ 2.91437873, -5.84051289],\n",
       "       [ 3.19210892, -5.71829851],\n",
       "       [ 2.9586599 , -5.75994864],\n",
       "       [ 2.28642572, -5.46042065],\n",
       "       [ 3.19963195, -5.42566143],\n",
       "       [ 3.14661108, -5.28967072],\n",
       "       [ 2.99569623, -5.1809357 ],\n",
       "       [ 3.03354506, -5.45790407],\n",
       "       [ 2.94004523, -5.69467143],\n",
       "       [ 2.86283042, -5.63899256],\n",
       "       [ 2.87037575, -5.12999135],\n",
       "       [ 2.91496666, -5.12263409],\n",
       "       [ 3.09243264, -5.73787684],\n",
       "       [ 2.8535028 , -6.1403164 ],\n",
       "       [ 2.90362838, -6.42009834],\n",
       "       [ 2.86543825, -5.20563023],\n",
       "       [ 2.63612348, -5.39631705],\n",
       "       [ 2.87712708, -5.9263226 ],\n",
       "       [ 2.70168102, -5.59559631],\n",
       "       [ 2.52186309, -4.83899423],\n",
       "       [ 2.91235882, -5.55599641],\n",
       "       [ 2.73226271, -5.59048011],\n",
       "       [ 2.65299643, -4.385992  ],\n",
       "       [ 2.50495859, -4.98502652],\n",
       "       [ 3.09675065, -5.51582401],\n",
       "       [ 3.29287589, -5.76361572],\n",
       "       [ 2.78791371, -5.07674437],\n",
       "       [ 2.96421687, -5.83072372],\n",
       "       [ 2.66290296, -5.09900701],\n",
       "       [ 2.95927938, -5.9063626 ],\n",
       "       [ 2.79900535, -5.43465866],\n",
       "       [ 6.78719082, -6.01211305],\n",
       "       [ 6.43485366, -5.64528622],\n",
       "       [ 6.96666745, -5.83121539],\n",
       "       [ 5.68568285, -4.49899357],\n",
       "       [ 6.59046839, -5.40154325],\n",
       "       [ 6.14403422, -4.90870571],\n",
       "       [ 6.5974258 , -5.61042085],\n",
       "       [ 4.75324246, -4.32206162],\n",
       "       [ 6.54649696, -5.55531448],\n",
       "       [ 5.49361973, -4.60387067],\n",
       "       [ 4.99452425, -4.06098139],\n",
       "       [ 6.01406369, -5.22297134],\n",
       "       [ 5.76734164, -4.77691611],\n",
       "       [ 6.48729964, -5.20213472],\n",
       "       [ 5.32843976, -5.07209837],\n",
       "       [ 6.43022591, -5.79413207],\n",
       "       [ 6.16264889, -4.97398291],\n",
       "       [ 5.73847013, -4.99334181],\n",
       "       [ 6.44709886, -4.78380703],\n",
       "       [ 5.54759211, -4.7431182 ],\n",
       "       [ 6.61864831, -5.24233572],\n",
       "       [ 5.86025355, -5.25802755],\n",
       "       [ 6.80054901, -4.99916527],\n",
       "       [ 6.42409406, -5.14421478],\n",
       "       [ 6.21721846, -5.47600852],\n",
       "       [ 6.40253951, -5.65545705],\n",
       "       [ 6.83438957, -5.57139345],\n",
       "       [ 7.06016729, -5.59444802],\n",
       "       [ 6.31565578, -5.16360228],\n",
       "       [ 5.19678135, -4.95869039],\n",
       "       [ 5.43423864, -4.62178045],\n",
       "       [ 5.31274266, -4.64666581],\n",
       "       [ 5.63879384, -5.01292014],\n",
       "       [ 6.88239157, -4.90599829],\n",
       "       [ 6.09037158, -4.84266516],\n",
       "       [ 6.30922345, -5.52113489],\n",
       "       [ 6.72305602, -5.73457217],\n",
       "       [ 6.31746037, -4.95491552],\n",
       "       [ 5.74832281, -5.05842818],\n",
       "       [ 5.66877835, -4.64502585],\n",
       "       [ 5.96716542, -4.65624103],\n",
       "       [ 6.39318033, -5.29248813],\n",
       "       [ 5.73291316, -4.92256673],\n",
       "       [ 4.79783337, -4.31470435],\n",
       "       [ 5.85934663, -4.82204248],\n",
       "       [ 5.83429961, -5.11429789],\n",
       "       [ 5.87858078, -5.03373365],\n",
       "       [ 6.14494114, -5.34469077],\n",
       "       [ 4.59589527, -4.57085921],\n",
       "       [ 5.80136597, -4.97805477],\n",
       "       [ 8.03355786, -5.31710347],\n",
       "       [ 6.91760101, -4.75203623],\n",
       "       [ 8.11904115, -5.67085573],\n",
       "       [ 7.47389619, -5.14722467],\n",
       "       [ 7.85237105, -5.28669163],\n",
       "       [ 8.89940387, -5.87778925],\n",
       "       [ 6.02359738, -4.13419385],\n",
       "       [ 8.4349522 , -5.68245258],\n",
       "       [ 7.82359395, -5.08312107],\n",
       "       [ 8.4191161 , -6.10974453],\n",
       "       [ 7.16413929, -5.56918098],\n",
       "       [ 7.30576709, -5.11131496],\n",
       "       [ 7.66795693, -5.54322816],\n",
       "       [ 6.84852871, -4.55013423],\n",
       "       [ 7.08829336, -4.78731186],\n",
       "       [ 7.40682151, -5.44620327],\n",
       "       [ 7.45205419, -5.36889584],\n",
       "       [ 8.9894205 , -6.50269191],\n",
       "       [ 9.29801055, -5.58427555],\n",
       "       [ 6.80315685, -4.56580294],\n",
       "       [ 7.93018305, -5.70514859],\n",
       "       [ 6.70136624, -4.72086105],\n",
       "       [ 9.00228517, -5.78762668],\n",
       "       [ 6.89113126, -5.12255325],\n",
       "       [ 7.77779564, -5.66194318],\n",
       "       [ 8.11645561, -5.88785393],\n",
       "       [ 6.76087329, -5.14724778],\n",
       "       [ 6.79349719, -5.21028393],\n",
       "       [ 7.62597386, -5.1172231 ],\n",
       "       [ 7.89036815, -5.79159238],\n",
       "       [ 8.34403791, -5.70222174],\n",
       "       [ 8.73303879, -6.70111766],\n",
       "       [ 7.66180278, -5.109675  ],\n",
       "       [ 6.94652637, -5.18353917],\n",
       "       [ 7.28365994, -4.8270509 ],\n",
       "       [ 8.57886506, -6.01503825],\n",
       "       [ 7.64660845, -5.46701678],\n",
       "       [ 7.40746328, -5.3762531 ],\n",
       "       [ 6.67169147, -5.16196231],\n",
       "       [ 7.60997628, -5.69924045],\n",
       "       [ 7.81651984, -5.51060386],\n",
       "       [ 7.42463293, -5.73615604],\n",
       "       [ 6.91760101, -4.75203623],\n",
       "       [ 8.06537851, -5.60481518],\n",
       "       [ 7.92111132, -5.63175077],\n",
       "       [ 7.44647493, -5.51448488],\n",
       "       [ 7.02953175, -4.95163559],\n",
       "       [ 7.26671085, -5.40581143],\n",
       "       [ 7.40330675, -5.44358054],\n",
       "       [ 6.89255399, -5.04429164]])"
      ]
     },
     "execution_count": 13,
     "metadata": {},
     "output_type": "execute_result"
    }
   ],
   "source": [
    "print(new_data.shape)\n",
    "new_data"
   ]
  },
  {
   "cell_type": "code",
   "execution_count": 14,
   "id": "3a387a83",
   "metadata": {},
   "outputs": [],
   "source": [
    "new_df = pd.DataFrame(np.hstack((new_data,np.array(target).reshape(-1,1))),columns=['1st_component','2nd_component','Species'])\n"
   ]
  },
  {
   "cell_type": "code",
   "execution_count": 15,
   "id": "dbe6a78a",
   "metadata": {},
   "outputs": [
    {
     "data": {
      "image/png": "[encoded data removed]",
      "text/plain": [
       "<Figure size 432x288 with 1 Axes>"
      ]
     },
     "metadata": {
      "needs_background": "light"
     },
     "output_type": "display_data"
    }
   ],
   "source": [
    "#plotting data\n",
    "sns.scatterplot(new_df['1st_component'],new_df['2nd_component'],hue=new_df['Species'])\n",
    "plt.title('Scatter-plot')\n",
    "plt.show()"
   ]
  },
  {
   "cell_type": "code",
   "execution_count": 16,
   "id": "38c0c1ef",
   "metadata": {},
   "outputs": [],
   "source": [
    "explained_var = []\n",
    "for i in eig_val:\n",
    "    explained_var.append(i/sum(eig_val) * 100)\n",
    "c_sum = np.cumsum(explained_var)"
   ]
  },
  {
   "cell_type": "code",
   "execution_count": 17,
   "id": "f83e6a70",
   "metadata": {},
   "outputs": [
    {
     "data": {
      "text/plain": [
       "Text(0, 0.5, 'cumulative explained variance')"
      ]
     },
     "execution_count": 17,
     "metadata": {},
     "output_type": "execute_result"
    },
    {
     "data": {
      "image/png": "[encoded data removed]",
      "text/plain": [
       "<Figure size 432x288 with 1 Axes>"
      ]
     },
     "metadata": {
      "needs_background": "light"
     },
     "output_type": "display_data"
    }
   ],
   "source": [
    "plt.plot(np.cumsum(explained_var))\n",
    "plt.xlabel('number of components')\n",
    "plt.ylabel('cumulative explained variance')"
   ]
  },
  {
   "cell_type": "markdown",
   "id": "9ee0ad59",
   "metadata": {},
   "source": [
    "## Exercise 4"
   ]
  },
  {
   "cell_type": "code",
   "execution_count": 18,
   "id": "8df7d588",
   "metadata": {},
   "outputs": [
    {
     "name": "stdout",
     "output_type": "stream",
     "text": [
      "(150, 2)\n"
     ]
    }
   ],
   "source": [
    "pca  = PCA(n_components=2)\n",
    "#here data is scaled data that we did earlier using standard scalar\n",
    "pca_components = pca.fit_transform(data)\n",
    "print(pca_components.shape)"
   ]
  },
  {
   "cell_type": "code",
   "execution_count": 19,
   "id": "029892ea",
   "metadata": {},
   "outputs": [],
   "source": [
    "new_df_pca = pd.DataFrame(np.hstack((pca_components,np.array(target).reshape(-1,1))),columns=['1st_component','2nd_component','Species'])"
   ]
  },
  {
   "cell_type": "code",
   "execution_count": 20,
   "id": "9fe66057",
   "metadata": {},
   "outputs": [
    {
     "data": {
      "image/png": "[encoded data removed]",
      "text/plain": [
       "<Figure size 432x288 with 1 Axes>"
      ]
     },
     "metadata": {
      "needs_background": "light"
     },
     "output_type": "display_data"
    }
   ],
   "source": [
    "sns.scatterplot(new_df_pca['1st_component'],new_df_pca['2nd_component'],hue=new_df_pca['Species'])\n",
    "plt.title('Scatter-plot')\n",
    "plt.show()"
   ]
  },
  {
   "cell_type": "markdown",
   "id": "c9e125d4",
   "metadata": {},
   "source": [
    "We can see that both of them give almost similar results."
   ]
  }
 ],
 "metadata": {
  "kernelspec": {
   "display_name": "Python 3",
   "language": "python",
   "name": "python3"
  },
  "language_info": {
   "codemirror_mode": {
    "name": "ipython",
    "version": 3
   },
   "file_extension": ".py",
   "mimetype": "text/x-python",
   "name": "python",
   "nbconvert_exporter": "python",
   "pygments_lexer": "ipython3",
   "version": "3.8.8"
  }
 },
 "nbformat": 4,
 "nbformat_minor": 5
}
